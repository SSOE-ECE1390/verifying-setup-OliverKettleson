{
 "cells": [
  {
   "cell_type": "markdown",
   "metadata": {},
   "source": [
    "# <font style=\"color:black\">Lecture 1: Homework Problem</font>\n",
    "\n",
    "In this first homework set, I want you to make sure that you can use GitHub, MS Code, and OpenCV.\n",
    "You should (already to be able to read this document), clone the Github classroom assignment and edit it in VS Code.  In this python notebook, do the following:\n",
    "\n",
    "* Load an (Grayscale) image  (‘Data/Apollo_11_Launch.jpg’)\n",
    "* View image\n",
    "* Crop image\n",
    "* Edit brightness of image\n",
    "* Rotate image\n",
    "* Save modified image"
   ]
  },
  {
   "cell_type": "code",
   "execution_count": null,
   "metadata": {},
   "outputs": [],
   "source": [
    "import cv2\n",
    "import os\n",
    "import numpy as np\n",
    "\n",
    "import matplotlib.pyplot as plt     #Issue here\n",
    "\n",
    "#Load in image\n",
    "Apollo11 = cv2.imread(os.path.relpath('Data/Apollo_11_Launch.jpg'), cv2.IMREAD_GRAYSCALE)\n",
    "\n",
    "#Display Image\n",
    "plt.imshow(Apollo11, cmap='gray')\n",
    "plt.axis('off')\n",
    "plt.show()\n",
    "\n",
    "#Crop and View\n",
    "cropped_apollo = Apollo11[200:400, 300:600]\n",
    "plt.imshow(cropped_apollo, cmap='gray')\n",
    "plt.axis('off')\n",
    "plt.show()\n",
    "\n",
    "#Edit Brightness and View\n",
    "matrix = np.ones(cropped_apollo.shape, dtype=\"uint8\") * 50\n",
    "plt.imshow(cropped_apollo, cmap='gray')\n",
    "plt.axis('off')\n",
    "plt.show()\n",
    "\n",
    "#Rotate Image and View\n",
    "new_apollo = cv2.add(cropped_apollo, matrix)\n",
    "new_apollo_Vert = cv2.flip(new_apollo, 1)\n",
    "plt.imshow(cropped_apollo, cmap='gray')\n",
    "plt.axis('off')\n",
    "plt.show()\n",
    "\n",
    "#Save file\n",
    "cv2.imwrite(\"cathedral_image_(RBG).png\", new_apollo_Vert)\n",
    "os.remove(\"cathedral_image_(RBG).png\")\n"
   ]
  }
 ],
 "metadata": {
  "kernelspec": {
   "display_name": "ECE1390",
   "language": "python",
   "name": "python3"
  },
  "language_info": {
   "codemirror_mode": {
    "name": "ipython",
    "version": 3
   },
   "file_extension": ".py",
   "mimetype": "text/x-python",
   "name": "python",
   "nbconvert_exporter": "python",
   "pygments_lexer": "ipython3",
   "version": "3.12.11"
  }
 },
 "nbformat": 4,
 "nbformat_minor": 2
}
